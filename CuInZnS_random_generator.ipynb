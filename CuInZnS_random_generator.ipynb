{
 "cells": [
  {
   "cell_type": "markdown",
   "metadata": {
    "deletable": true,
    "editable": true
   },
   "source": [
    "## Random CuInZnS Nanocrystal Generator\n",
    "\n",
    "Generates 34-cation NCs with randomly distributed Cu, In, and Zn cations.  \n",
    "Constraints: Number of Cu == Number of In, and number of surface H on Cu == number of surface H on In."
   ]
  },
  {
   "cell_type": "code",
   "execution_count": 1,
   "metadata": {
    "collapsed": true,
    "deletable": true,
    "editable": true
   },
   "outputs": [],
   "source": [
    "from random import randint\n",
    "import numpy as np\n",
    "import os"
   ]
  },
  {
   "cell_type": "code",
   "execution_count": 2,
   "metadata": {
    "collapsed": false,
    "deletable": true,
    "editable": true
   },
   "outputs": [],
   "source": [
    "In_cations = [1, 8, 11, 12, 16, 20, 31, 32, 36, 40, 45, 46, 48, 51, 56, 63, 66]\n",
    "Cu_cations = [4, 5, 7, 17, 21, 24, 25, 30, 33, 37, 39, 47, 52, 55, 59, 60, 67]\n",
    "cations = sorted(Cu_cations + In_cations)\n",
    "corner_cations = [63, 66, 67]\n",
    "surface_cations = [11, 21, 24, 25, 30, 31, 32, 33, 36,\n",
    "           37, 39, 40, 45, 46, 47, 48, 51, 52, 55, 56, 59, 60]"
   ]
  },
  {
   "cell_type": "code",
   "execution_count": 3,
   "metadata": {
    "collapsed": false,
    "deletable": true,
    "editable": true
   },
   "outputs": [],
   "source": [
    "with open('CuInZnS34_random_template.txt') as f:\n",
    "    temp = f.readlines()\n",
    "atom_coord_lines = temp[0:68]\n",
    "H_coord_lines = temp[68:124]\n",
    "SH_charge_lines = temp[125:153]"
   ]
  },
  {
   "cell_type": "markdown",
   "metadata": {
    "deletable": true,
    "editable": true
   },
   "source": [
    "0 = S  \n",
    "1 = Cu  \n",
    "2 = Zn  \n",
    "3 = In  "
   ]
  },
  {
   "cell_type": "code",
   "execution_count": 4,
   "metadata": {
    "collapsed": true,
    "deletable": true,
    "editable": true
   },
   "outputs": [],
   "source": [
    "def generate_structure2(num_CuIn):\n",
    "    \n",
    "    bad_structure = True\n",
    "    attempts = 0\n",
    "\n",
    "    while bad_structure: \n",
    "        structure = np.zeros(68)\n",
    "        \n",
    "        for site in cations:\n",
    "            structure[site -1] = 2\n",
    "        \n",
    "        for i in range(num_CuIn):\n",
    "            Cu = Cu_cations[randint(0, len(Cu_cations)-1)] - 1  # pick a site for Cu\n",
    "            In = In_cations[randint(0, len(In_cations)-1)] - 1  # pick a site for In\n",
    "            \n",
    "            while structure[Cu] == 1:  # if there is already Cu in the selected site\n",
    "                Cu = Cu_cations[randint(0, len(Cu_cations)-1)] - 1  # pick a new site\n",
    "            while structure[In] == 3:  # if there is already In in the selected site\n",
    "                In = In_cations[randint(0, len(In_cations)-1)] - 1  # pick a new site\n",
    "            \n",
    "            structure[Cu] = 1\n",
    "            structure[In] = 3\n",
    "        \n",
    "        unique, counts = np.unique(structure, return_counts=True)\n",
    "        attempts += 1\n",
    "        Cu_H = 0\n",
    "        In_H = 0\n",
    "        for i, atom in enumerate(structure):\n",
    "            if atom == 1:  # copper\n",
    "                if (i+1) in corner_cations:\n",
    "                    Cu_H += 2\n",
    "                elif (i+1) in surface_cations:\n",
    "                    Cu_H += 1\n",
    "            elif atom == 3:  # indium\n",
    "                if (i+1) in corner_cations:\n",
    "                    In_H += 2\n",
    "                elif (i+1) in surface_cations:\n",
    "                    In_H += 1\n",
    "\n",
    "\n",
    "        if (counts[1] == counts[3]) and (Cu_H == In_H):\n",
    "            print(\"Cu{} In{} Zn{}\".format(counts[1], counts[3], counts[2]))\n",
    "            print(\"Attempts: {}\".format(attempts))\n",
    "            return structure\n",
    "        "
   ]
  },
  {
   "cell_type": "code",
   "execution_count": 5,
   "metadata": {
    "collapsed": false,
    "deletable": true,
    "editable": true
   },
   "outputs": [],
   "source": [
    "def generate_structure(num_CuIn=0):\n",
    "\n",
    "    bad_structure = True\n",
    "    attempts = 0\n",
    "\n",
    "    while bad_structure: \n",
    "        structure = np.zeros(68)\n",
    "        for i in range(len(structure)):\n",
    "            if (i+1) in Cu_cations:\n",
    "                structure[i] = randint(1,2)\n",
    "            if (i+1) in In_cations:\n",
    "                structure[i] = randint(2,3)\n",
    "        attempts += 1\n",
    "        unique, counts = np.unique(structure, return_counts=True)\n",
    "        \n",
    "        if (num_CuIn==0 or num_CuIn==counts[1]): # only continue if there is no constraint on Cu, In\n",
    "                                                 # or if the structure meets the constraint\n",
    "            Cu_H = 0\n",
    "            In_H = 0\n",
    "            for i, atom in enumerate(structure):\n",
    "                if atom == 1:  # copper\n",
    "                    if (i+1) in corner_cations:\n",
    "                        Cu_H += 2\n",
    "                    elif (i+1) in surface_cations:\n",
    "                        Cu_H += 1\n",
    "                elif atom == 3:  # indium\n",
    "                    if (i+1) in corner_cations:\n",
    "                        In_H += 2\n",
    "                    elif (i+1) in surface_cations:\n",
    "                        In_H += 1\n",
    "\n",
    "\n",
    "            if (counts[1] == counts[3]) and (Cu_H == In_H):\n",
    "                print(\"Cu{} In{} Zn{}\".format(counts[1], counts[3], counts[2]))\n",
    "                print(\"Attempts: {}\".format(attempts))\n",
    "                return structure"
   ]
  },
  {
   "cell_type": "code",
   "execution_count": 6,
   "metadata": {
    "collapsed": false,
    "deletable": true,
    "editable": true
   },
   "outputs": [],
   "source": [
    "def write_structure(structure):\n",
    "    \n",
    "    unique, counts = np.unique(structure, return_counts=True)\n",
    "    filenum = 1\n",
    "    filename = \"ZnS{}_CuIn{}_rand{}_opt\".format(counts[2], counts[1], filenum)\n",
    "    print(filename)\n",
    "    \n",
    "    while os.path.exists(filename + \".gjf\"):\n",
    "        filenum += 1\n",
    "        filename = \"ZnS{}_CuIn{}_rand{}_opt\".format(counts[2], counts[1], filenum)\n",
    "    \n",
    "    with open(filename + \".gjf\", 'w') as f:\n",
    "\n",
    "        f.write(\"%chk={}.chk\\n\".format(filename))\n",
    "        f.write(\"%mem=60GB\\n\")\n",
    "        f.write(\"%nprocshared=16\\n\")\n",
    "        f.write(\"#p pbe1pbe/lanl2dz opt massage scf=conver=5\\n\\n\")\n",
    "        f.write(\"Random Zn{} Cu{} In{} structure {}\\n\\n\".format(\n",
    "                counts[2], counts[1], counts[3], filenum))\n",
    "        f.write(\"0 1\\n\")\n",
    "\n",
    "        for i, atom in enumerate(structure):\n",
    "            if atom == 0:\n",
    "                atom_type = \"S\"\n",
    "            elif atom == 1:\n",
    "                atom_type = \"Cu\"\n",
    "            elif atom == 2:\n",
    "                atom_type = \"Zn\"\n",
    "            elif atom == 3:\n",
    "                atom_type = \"In\"\n",
    "            xyz = atom_coord_lines[i].split()\n",
    "            f.write(\"{:2}\\t{: f}\\t{: f}\\t{: f}\\n\".format(atom_type, float(xyz[1]), float(xyz[2]), float(xyz[3])))\n",
    "\n",
    "\n",
    "        for line in H_coord_lines:\n",
    "            xyz = line.split()\n",
    "            f.write(\"{:2}\\t{: f}\\t{: f}\\t{: f}\\n\".format(xyz[0], float(xyz[1]), float(xyz[2]), float(xyz[3])))\n",
    "\n",
    "        f.write(\"\\n\")\n",
    "\n",
    "        for line in SH_charge_lines:\n",
    "            line = line.split()\n",
    "            f.write(\"{}\\t{}\\t{}\\n\".format(line[0], line[1], line[2]))\n",
    "\n",
    "        H_num = 97\n",
    "        total_H_charge = 0\n",
    "        for i in range(67,0,-1):\n",
    "            atom = structure[i]\n",
    "            if atom == 1:\n",
    "                H_charge = 1.75\n",
    "            elif atom == 2:\n",
    "                H_charge = 1.5\n",
    "            elif atom == 3:\n",
    "                H_charge = 1.25\n",
    "\n",
    "            if ((i+1) in corner_cations) or ((i+1) in surface_cations):\n",
    "                f.write(\"{}\\tznuc\\t{}\\n\".format(H_num, H_charge))\n",
    "                H_num += 1\n",
    "                total_H_charge += H_charge\n",
    "            if ((i+1) in corner_cations):  # do a second time if on corner\n",
    "                f.write(\"{}\\tznuc\\t{}\\n\".format(H_num, H_charge))\n",
    "                H_num += 1\n",
    "                total_H_charge += H_charge"
   ]
  },
  {
   "cell_type": "code",
   "execution_count": 9,
   "metadata": {
    "collapsed": false,
    "deletable": true,
    "editable": true
   },
   "outputs": [
    {
     "name": "stdout",
     "output_type": "stream",
     "text": [
      "Cu10 In10 Zn14\n",
      "Attempts: 113\n",
      "ZnS14_CuIn10_rand1_opt\n"
     ]
    }
   ],
   "source": [
    "test = generate_structure(10)\n",
    "write_structure(test)"
   ]
  },
  {
   "cell_type": "code",
   "execution_count": 12,
   "metadata": {
    "collapsed": false,
    "deletable": true,
    "editable": true
   },
   "outputs": [
    {
     "name": "stdout",
     "output_type": "stream",
     "text": [
      "Cu1 In1 Zn32\n",
      "Attempts: 2\n",
      "ZnS32_CuIn1_rand1_opt\n"
     ]
    }
   ],
   "source": [
    "test2 = generate_structure2(1)\n",
    "write_structure(test2)"
   ]
  },
  {
   "cell_type": "code",
   "execution_count": 11,
   "metadata": {
    "collapsed": false,
    "deletable": true,
    "editable": true
   },
   "outputs": [
    {
     "data": {
      "text/plain": [
       "[1, 2, 3, 4, 5, 6, 7, 8, 9, 10, 11, 12, 13, 14, 15, 16]"
      ]
     },
     "execution_count": 11,
     "metadata": {},
     "output_type": "execute_result"
    }
   ],
   "source": [
    "list(range(1,17))"
   ]
  },
  {
   "cell_type": "code",
   "execution_count": null,
   "metadata": {
    "collapsed": true,
    "deletable": true,
    "editable": true
   },
   "outputs": [],
   "source": []
  },
  {
   "cell_type": "code",
   "execution_count": 12,
   "metadata": {
    "collapsed": false,
    "deletable": true,
    "editable": true
   },
   "outputs": [
    {
     "name": "stdout",
     "output_type": "stream",
     "text": [
      "Cu1 In1 Zn32\n",
      "Attempts: 2\n",
      "ZnS32_CuIn1_rand1_opt\n",
      "Cu2 In2 Zn30\n",
      "Attempts: 2\n",
      "ZnS30_CuIn2_rand1_opt\n",
      "Cu3 In3 Zn28\n",
      "Attempts: 2\n",
      "ZnS28_CuIn3_rand1_opt\n",
      "Cu4 In4 Zn26\n",
      "Attempts: 1\n",
      "ZnS26_CuIn4_rand1_opt\n",
      "Cu5 In5 Zn24\n",
      "Attempts: 3\n",
      "ZnS24_CuIn5_rand1_opt\n",
      "Cu6 In6 Zn22\n",
      "Attempts: 1\n",
      "ZnS22_CuIn6_rand1_opt\n",
      "Cu7 In7 Zn20\n",
      "Attempts: 1\n",
      "ZnS20_CuIn7_rand1_opt\n",
      "Cu8 In8 Zn18\n",
      "Attempts: 3\n",
      "ZnS18_CuIn8_rand1_opt\n",
      "Cu9 In9 Zn16\n",
      "Attempts: 2\n",
      "ZnS16_CuIn9_rand1_opt\n",
      "Cu10 In10 Zn14\n",
      "Attempts: 1\n",
      "ZnS14_CuIn10_rand1_opt\n",
      "Cu11 In11 Zn12\n",
      "Attempts: 1\n",
      "ZnS12_CuIn11_rand1_opt\n",
      "Cu12 In12 Zn10\n",
      "Attempts: 4\n",
      "ZnS10_CuIn12_rand1_opt\n",
      "Cu13 In13 Zn8\n",
      "Attempts: 1\n",
      "ZnS8_CuIn13_rand1_opt\n",
      "Cu14 In14 Zn6\n",
      "Attempts: 4\n",
      "ZnS6_CuIn14_rand1_opt\n",
      "Cu15 In15 Zn4\n",
      "Attempts: 1\n",
      "ZnS4_CuIn15_rand1_opt\n",
      "Cu16 In16 Zn2\n",
      "Attempts: 2\n",
      "ZnS2_CuIn16_rand1_opt\n"
     ]
    }
   ],
   "source": [
    "for i in range(1,17):\n",
    "    write_structure(generate_structure2(i))"
   ]
  },
  {
   "cell_type": "code",
   "execution_count": 9,
   "metadata": {
    "collapsed": false,
    "deletable": true,
    "editable": true
   },
   "outputs": [
    {
     "ename": "NameError",
     "evalue": "name 'test2' is not defined",
     "output_type": "error",
     "traceback": [
      "\u001b[1;31m---------------------------------------------------------------------------\u001b[0m",
      "\u001b[1;31mNameError\u001b[0m                                 Traceback (most recent call last)",
      "\u001b[1;32m<ipython-input-9-cbda3cc8d4ff>\u001b[0m in \u001b[0;36m<module>\u001b[1;34m()\u001b[0m\n\u001b[1;32m----> 1\u001b[1;33m \u001b[0mnp\u001b[0m\u001b[1;33m.\u001b[0m\u001b[0munique\u001b[0m\u001b[1;33m(\u001b[0m\u001b[0mtest2\u001b[0m\u001b[1;33m,\u001b[0m \u001b[0mreturn_counts\u001b[0m\u001b[1;33m=\u001b[0m\u001b[1;32mTrue\u001b[0m\u001b[1;33m)\u001b[0m\u001b[1;33m\u001b[0m\u001b[0m\n\u001b[0m",
      "\u001b[1;31mNameError\u001b[0m: name 'test2' is not defined"
     ]
    }
   ],
   "source": [
    "np.unique(test2, return_counts=True)"
   ]
  },
  {
   "cell_type": "code",
   "execution_count": 44,
   "metadata": {
    "collapsed": false,
    "deletable": true,
    "editable": true
   },
   "outputs": [
    {
     "name": "stdout",
     "output_type": "stream",
     "text": [
      "97\t1.25\n",
      "98\t1.25\n",
      "99\t1.5\n",
      "100\t1.5\n",
      "101\t1.5\n",
      "102\t1.5\n",
      "103\t1.5\n",
      "104\t1.5\n",
      "105\t1.5\n",
      "106\t1.5\n",
      "107\t1.5\n",
      "108\t1.5\n",
      "109\t1.75\n",
      "110\t1.5\n",
      "111\t1.75\n",
      "112\t1.75\n",
      "113\t1.5\n",
      "114\t1.25\n",
      "115\t1.5\n",
      "116\t1.75\n",
      "117\t1.5\n",
      "118\t1.75\n",
      "119\t1.5\n",
      "120\t1.25\n",
      "121\t1.5\n",
      "122\t1.25\n",
      "123\t1.25\n",
      "124\t1.75\n"
     ]
    }
   ],
   "source": [
    "H_num = 97\n",
    "total_H_charge = 0\n",
    "for i in range(67,0,-1):\n",
    "    atom = test[i]\n",
    "    if atom == 1:\n",
    "        H_charge = 1.75\n",
    "    elif atom == 2:\n",
    "        H_charge = 1.5\n",
    "    elif atom == 3:\n",
    "        H_charge = 1.25\n",
    "    \n",
    "    if ((i+1) in corner_cations) or ((i+1) in surface_cations):\n",
    "        print(\"{}\\t{}\".format(H_num, H_charge))\n",
    "        H_num += 1\n",
    "        total_H_charge += H_charge\n",
    "    if ((i+1) in corner_cations):  # do a second time if on corner\n",
    "        print(\"{}\\t{}\".format(H_num, H_charge))\n",
    "        H_num += 1\n",
    "        total_H_charge += H_charge"
   ]
  },
  {
   "cell_type": "code",
   "execution_count": null,
   "metadata": {
    "collapsed": true,
    "deletable": true,
    "editable": true
   },
   "outputs": [],
   "source": []
  }
 ],
 "metadata": {
  "kernelspec": {
   "display_name": "Python 3",
   "language": "python",
   "name": "python3"
  },
  "language_info": {
   "codemirror_mode": {
    "name": "ipython",
    "version": 3
   },
   "file_extension": ".py",
   "mimetype": "text/x-python",
   "name": "python",
   "nbconvert_exporter": "python",
   "pygments_lexer": "ipython3",
   "version": "3.5.1"
  }
 },
 "nbformat": 4,
 "nbformat_minor": 0
}
